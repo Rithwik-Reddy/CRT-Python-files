{
 "cells": [
  {
   "cell_type": "markdown",
   "metadata": {},
   "source": [
    "# Python programing\n",
    "## Python programing\n",
    "### Python programing\n",
    "#### Python programing"
   ]
  },
  {
   "cell_type": "markdown",
   "metadata": {},
   "source": [
    "1. a\n",
    "2. b\n",
    "3. c\n",
    "    1. d\n",
    "    2. e\n",
    "    3. f"
   ]
  },
  {
   "cell_type": "markdown",
   "metadata": {},
   "source": [
    "[python](https://www.geeksforgeeks.org/python-programming-language/)"
   ]
  },
  {
   "cell_type": "markdown",
   "metadata": {},
   "source": [
    "[image](https://media.geeksforgeeks.org/wp-content/cdn-uploads/Python-1024x341.png)"
   ]
  },
  {
   "cell_type": "markdown",
   "metadata": {},
   "source": [
    "- bolla\n",
    "- hemanth\n",
    "- c/o\n",
    "- ya family"
   ]
  },
  {
   "cell_type": "code",
   "execution_count": 4,
   "metadata": {},
   "outputs": [
    {
     "name": "stdout",
     "output_type": "stream",
     "text": [
      "hello brother\n"
     ]
    }
   ],
   "source": [
    "print(\"hello brother\")"
   ]
  },
  {
   "cell_type": "code",
   "execution_count": 6,
   "metadata": {},
   "outputs": [
    {
     "data": {
      "text/plain": [
       "30"
      ]
     },
     "execution_count": 6,
     "metadata": {},
     "output_type": "execute_result"
    }
   ],
   "source": [
    "a=10\n",
    "b=20\n",
    "a+b"
   ]
  },
  {
   "cell_type": "code",
   "execution_count": 8,
   "metadata": {},
   "outputs": [
    {
     "name": "stdout",
     "output_type": "stream",
     "text": [
      "<class 'int'> <class 'int'>\n"
     ]
    }
   ],
   "source": [
    "a=10\n",
    "b=20\n",
    "print(type(a),type(b))"
   ]
  },
  {
   "cell_type": "code",
   "execution_count": 10,
   "metadata": {},
   "outputs": [
    {
     "name": "stdout",
     "output_type": "stream",
     "text": [
      "enter a value12\n",
      "enter b value13\n",
      "25\n"
     ]
    }
   ],
   "source": [
    "a=int(input(\"enter a value\"))\n",
    "b=int(input(\"enter b value\"))\n",
    "print(a+b)"
   ]
  },
  {
   "cell_type": "code",
   "execution_count": 12,
   "metadata": {},
   "outputs": [
    {
     "name": "stdout",
     "output_type": "stream",
     "text": [
      "enter name:Reddy\n",
      "enter age:19\n",
      "my name is Reddy my age is: 19\n"
     ]
    }
   ],
   "source": [
    "a=input(\"enter name:\")\n",
    "b=input(\"enter age:\")\n",
    "print(\"my name is \"+a+\" my age is: \"+b)"
   ]
  },
  {
   "cell_type": "code",
   "execution_count": 15,
   "metadata": {},
   "outputs": [
    {
     "name": "stdout",
     "output_type": "stream",
     "text": [
      "enter name:Bigil\n",
      "enter age:30\n",
      "my name is: Bigil\n",
      "my age is: 30\n"
     ]
    }
   ],
   "source": [
    "a=input(\"enter name:\")\n",
    "b=input(\"enter age:\")\n",
    "print(\"my name is: \"+a)\n",
    "print(\"my age is: \"+b)"
   ]
  },
  {
   "cell_type": "code",
   "execution_count": 17,
   "metadata": {},
   "outputs": [
    {
     "name": "stdout",
     "output_type": "stream",
     "text": [
      "print(hello world)\n",
      "print(\"hello world\")\n",
      "print(\"hello brother\")\n",
      "print(\"hello brother\")\n",
      "a=10\n",
      "b=20\n",
      "a+b\n",
      "a=10\n",
      "b=20\n",
      "a+b\n",
      "a=10\n",
      "b=20\n",
      "print(type(a),type(b))\n",
      "a=10\n",
      "b=20\n",
      "print(type(a),type(b))\n",
      "a=int(input(\"enter a value\"))\n",
      "b=int(input(\"enter b value\"))\n",
      "print(a+b)\n",
      "a=int(input(\"enter a value\"))\n",
      "b=int(input(\"enter b value\"))\n",
      "print(a+b)\n",
      "a=input(\"enter name:\")\n",
      "b=input(\"enter age:\")\n",
      "print(\"my name is \"+a+\" my age is: \"+b)\n",
      "a=input(\"enter name:\")\n",
      "b=input(\"enter age:\")\n",
      "print(\"my name is \"+a+\" my age is: \"+b)\n",
      "a=input(\"enter name:\")\n",
      "b=input(\"enter age:\")\n",
      "print(\"my name is: \"+a+)\n",
      "print(\"my age is: \"+b)\n",
      "a=input(\"enter name:\")\n",
      "b=input(\"enter age:\")\n",
      "print(\"my name is: \"+a)\n",
      "print(\"my age is: \"+b)\n",
      "a=input(\"enter name:\")\n",
      "b=input(\"enter age:\")\n",
      "print(\"my name is: \"+a)\n",
      "print(\"my age is: \"+b)\n",
      "help(\"keywords\")\n",
      "%history\n"
     ]
    }
   ],
   "source": [
    "%history"
   ]
  },
  {
   "cell_type": "code",
   "execution_count": 18,
   "metadata": {},
   "outputs": [
    {
     "name": "stdout",
     "output_type": "stream",
     "text": [
      "\n",
      "Here is a list of the Python keywords.  Enter any keyword to get more help.\n",
      "\n",
      "False               class               from                or\n",
      "None                continue            global              pass\n",
      "True                def                 if                  raise\n",
      "and                 del                 import              return\n",
      "as                  elif                in                  try\n",
      "assert              else                is                  while\n",
      "async               except              lambda              with\n",
      "await               finally             nonlocal            yield\n",
      "break               for                 not                 \n",
      "\n"
     ]
    }
   ],
   "source": [
    "help(\"keywords\")"
   ]
  }
 ],
 "metadata": {
  "kernelspec": {
   "display_name": "Python 3",
   "language": "python",
   "name": "python3"
  },
  "language_info": {
   "codemirror_mode": {
    "name": "ipython",
    "version": 3
   },
   "file_extension": ".py",
   "mimetype": "text/x-python",
   "name": "python",
   "nbconvert_exporter": "python",
   "pygments_lexer": "ipython3",
   "version": "3.7.4"
  }
 },
 "nbformat": 4,
 "nbformat_minor": 2
}
